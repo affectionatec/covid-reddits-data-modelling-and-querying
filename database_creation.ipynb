{
 "cells": [
  {
   "cell_type": "code",
   "execution_count": 1,
   "id": "d4e85c5a",
   "metadata": {},
   "outputs": [],
   "source": [
    "import csv"
   ]
  },
  {
   "cell_type": "code",
   "execution_count": 2,
   "id": "83125592",
   "metadata": {},
   "outputs": [],
   "source": [
    "import json"
   ]
  },
  {
   "cell_type": "code",
   "execution_count": 3,
   "id": "df69bdea",
   "metadata": {},
   "outputs": [],
   "source": [
    "import pandas"
   ]
  },
  {
   "cell_type": "code",
   "execution_count": 4,
   "id": "6d8ab26e",
   "metadata": {},
   "outputs": [],
   "source": [
    "import pymysql"
   ]
  },
  {
   "cell_type": "code",
   "execution_count": 5,
   "id": "d173732c",
   "metadata": {},
   "outputs": [],
   "source": [
    "import emoji"
   ]
  },
  {
   "cell_type": "code",
   "execution_count": 6,
   "id": "dce89fb4",
   "metadata": {},
   "outputs": [],
   "source": [
    "json_content = []\n",
    "with open('data_portfolio_21.csv', encoding='utf8', newline='') as f:\n",
    "    reader = csv.DictReader(f)\n",
    "    for row in reader:\n",
    "        json_content.append(row)\n",
    "\n",
    "# Write json to file\n",
    "with open('riddit.json', 'w', encoding='utf8') as f:\n",
    "    json.dump(json_content, f, indent=4)"
   ]
  },
  {
   "cell_type": "code",
   "execution_count": 7,
   "id": "2cb63b6f",
   "metadata": {
    "scrolled": false
   },
   "outputs": [],
   "source": [
    "reddit_data = json.load(open('riddit.json'))"
   ]
  },
  {
   "cell_type": "code",
   "execution_count": 8,
   "id": "aa029f5f",
   "metadata": {},
   "outputs": [],
   "source": [
    "password = 'password'\n",
    "# Connect to the database\n",
    "connection = pymysql.connect(host='csmysql.cs.cf.ac.uk',\n",
    "                             user='c2090580',\n",
    "                             password=password,\n",
    "                             db='c2090580_assessment_1',\n",
    "                             charset='utf8mb4')"
   ]
  },
  {
   "cell_type": "code",
   "execution_count": 9,
   "id": "41cded22",
   "metadata": {},
   "outputs": [],
   "source": [
    "cursor = connection.cursor()"
   ]
  },
  {
   "cell_type": "code",
   "execution_count": 10,
   "id": "26d986d6",
   "metadata": {},
   "outputs": [],
   "source": [
    "with connection.cursor() as cursor:\n",
    "    sql = \"\"\"drop table if exists posts_info;\"\"\"\n",
    "    cursor.execute(sql)\n",
    "    connection.commit()\n",
    "with connection.cursor() as cursor:\n",
    "    sql = \"\"\"drop table if exists user_info;\"\"\"\n",
    "    cursor.execute(sql)\n",
    "    connection.commit()\n",
    "with connection.cursor() as cursor:\n",
    "    sql = \"\"\"drop table if exists subreddit_info;\"\"\"\n",
    "    cursor.execute(sql)\n",
    "    connection.commit()\n"
   ]
  },
  {
   "cell_type": "code",
   "execution_count": 11,
   "id": "7416f9f1",
   "metadata": {},
   "outputs": [],
   "source": [
    "#USER INFORMATION\n",
    "# user info into a table\n",
    "author_map = {}\n",
    "for author_names in reddit_data:\n",
    "    author_name = author_names['author']\n",
    "    if not author_name in author_map:\n",
    "        author_map[author_name] = len(author_map)"
   ]
  },
  {
   "cell_type": "code",
   "execution_count": 12,
   "id": "5f848496",
   "metadata": {},
   "outputs": [],
   "source": [
    "#except duplicate user\n",
    "duplicate_author_set = set()\n",
    "user_info_list = []\n",
    "for user_info in reddit_data:\n",
    "    user_name = user_info['author']\n",
    "    user_id = author_map[user_name]\n",
    "    user_num_posts = user_info['user_num_posts']\n",
    "    user_registered_at = user_info['user_registered_at']\n",
    "    user_upvote_ratio = user_info['user_upvote_ratio']\n",
    "    if user_id in duplicate_author_set:\n",
    "        continue\n",
    "    this_list = [user_id,user_name,user_num_posts,user_registered_at,user_upvote_ratio]\n",
    "    user_info_list.append(this_list)\n",
    "    duplicate_author_set.add(user_id)\n"
   ]
  },
  {
   "cell_type": "code",
   "execution_count": 13,
   "id": "d7972996",
   "metadata": {},
   "outputs": [],
   "source": [
    "# create user info table\n",
    "with connection.cursor() as cursor:\n",
    "    sql = \"\"\"\n",
    "        create table user_info(\n",
    "        user_id int unsigned not null,\n",
    "        user_name nvarchar(500),\n",
    "        user_num_posts int,\n",
    "        user_registered_at date,\n",
    "        user_upvote_ratio double,\n",
    "        primary key (user_id)\n",
    ");\n",
    "\n",
    "    \"\"\"\n",
    "    cursor.execute(sql)\n",
    "    connection.commit()\n"
   ]
  },
  {
   "cell_type": "code",
   "execution_count": 14,
   "id": "eeae48f4",
   "metadata": {},
   "outputs": [],
   "source": [
    "# insert user info into table\n",
    "with connection.cursor() as cursor:\n",
    "    sql = \"\"\"\n",
    "    insert into user_info (user_id,user_name,user_num_posts,user_registered_at,user_upvote_ratio) values (%s,%s,%s,%s,%s);\n",
    "\n",
    "    \"\"\"\n",
    "    cursor.executemany(sql, user_info_list)\n",
    "    connection.commit()"
   ]
  },
  {
   "cell_type": "code",
   "execution_count": 15,
   "id": "0668c0a6",
   "metadata": {},
   "outputs": [],
   "source": [
    "#SUB REDDIT INFOMATION\n",
    "duplicate_subreddit_set = set()\n",
    "sub_reddit_map = {}\n",
    "\n",
    "for subreddit_names in reddit_data:\n",
    "    subreddit_name = subreddit_names['subreddit']\n",
    "    if not subreddit_name in sub_reddit_map:\n",
    "        sub_reddit_map[subreddit_name] = len(sub_reddit_map)\n",
    "\n",
    "\n",
    "subreddit_info_list = []\n",
    "for subreddit_info in reddit_data:\n",
    "    subreddit_name = subreddit_info['subreddit']\n",
    "    subreddit_id = sub_reddit_map[subreddit_name]\n",
    "    subreddit_created_at = subreddit_info['subr_created_at']\n",
    "    subreddit_description = subreddit_info['subr_description']\n",
    "    subreddit_faved_by = subreddit_info['subr_faved_by']\n",
    "    subreddit_numb_members = subreddit_info['subr_numb_members']\n",
    "    subreddit_numb_posts = subreddit_info['subr_numb_posts']\n",
    "    if subreddit_id in duplicate_subreddit_set:\n",
    "        continue\n",
    "    this_list = [subreddit_id,subreddit_name,subreddit_created_at,subreddit_description,subreddit_faved_by,subreddit_numb_members,subreddit_numb_posts]\n",
    "    subreddit_info_list.append(this_list)\n",
    "    duplicate_subreddit_set.add(subreddit_id)"
   ]
  },
  {
   "cell_type": "code",
   "execution_count": 16,
   "id": "235e9966",
   "metadata": {},
   "outputs": [],
   "source": [
    "#create subreddit table and insert data into it\n",
    "#\n",
    "with connection.cursor() as cursor:\n",
    "    sql = \"\"\"\n",
    "        create table subreddit_info(\n",
    "        subreddit_id int unsigned not null,\n",
    "        subreddit_name nvarchar(500),\n",
    "        subreddit_created_at date,\n",
    "        subreddit_description nvarchar(500),\n",
    "        subreddit_faved_by longtext,\n",
    "        subreddit_numb_members int,\n",
    "        subreddit_numb_posts int,\n",
    "        primary key (subreddit_id)\n",
    "    );\n",
    "    \n",
    "    \"\"\"\n",
    "    cursor.execute(sql)\n",
    "    connection.commit()\n",
    "\n",
    "with connection.cursor() as cursor:\n",
    "    sql = \"\"\"ALTER TABLE subreddit_info CONVERT TO CHARACTER SET utf8mb4;\"\"\"\n",
    "    cursor.execute(sql)\n",
    "    connection.commit()\n",
    "\n",
    "with connection.cursor() as cursor:\n",
    "    sql = \"\"\"\n",
    "    \n",
    "    insert into subreddit_info (subreddit_id,subreddit_name,subreddit_created_at,subreddit_description,subreddit_faved_by,subreddit_numb_members,subreddit_numb_posts) values (%s,%s,%s,%s,%s,%s,%s)\n",
    "    \"\"\"\n",
    "    cursor.executemany(sql,subreddit_info_list)\n",
    "    connection.commit()"
   ]
  },
  {
   "cell_type": "code",
   "execution_count": 17,
   "id": "b671fb1f",
   "metadata": {},
   "outputs": [],
   "source": [
    "#POSTS\n",
    "#this block is about post infomation\n",
    "\n",
    "post_info_list = []\n",
    "for posts_info in reddit_data:\n",
    "\n",
    "    post_id = len(post_info_list)\n",
    "    post_title = posts_info['title']\n",
    "\n",
    "    user_name = posts_info['author']\n",
    "    user_id = author_map[user_name]\n",
    "\n",
    "    subreddit_name = posts_info['subreddit']\n",
    "    subreddit_id = sub_reddit_map[subreddit_name]\n",
    "\n",
    "    posted_at = posts_info['posted_at']\n",
    "    post_num_comments = posts_info['num_comments']\n",
    "    post_score = posts_info['score']\n",
    "    post_total_awards_received = posts_info['total_awards_received']\n",
    "    post_upvote_ratio = posts_info['upvote_ratio']\n",
    "    selftext = posts_info['selftext']\n",
    "\n",
    "    this_list = [post_id,post_title,user_id,subreddit_id,posted_at,post_num_comments,post_score,post_total_awards_received,post_upvote_ratio,selftext]\n",
    "    post_info_list.append(this_list)\n",
    "    duplicate_author_set.add(user_id)\n",
    "    duplicate_subreddit_set.add(subreddit_id)"
   ]
  },
  {
   "cell_type": "code",
   "execution_count": 18,
   "id": "8cc5e957",
   "metadata": {},
   "outputs": [],
   "source": [
    "with connection.cursor() as cursor:\n",
    "    sql = \"\"\"\n",
    "        create table posts_info(\n",
    "        post_id int unsigned not null,\n",
    "        post_title nvarchar(500),\n",
    "        post_author_id int unsigned not null,\n",
    "        post_subreddit_id int unsigned not null,\n",
    "        posted_at datetime,\n",
    "        post_num_comments int,\n",
    "        post_score int,\n",
    "        post_total_awards_received int,\n",
    "        post_upvote_ratio float,\n",
    "        selftext longtext,\n",
    "        constraint `fk_author` foreign key (post_author_id) references user_info(user_id) on delete restrict on update cascade,\n",
    "        constraint `fk_subreddit` foreign key (post_subreddit_id) references subreddit_info(subreddit_id) on delete restrict on update cascade\n",
    "    );\n",
    "\n",
    "    \"\"\"\n",
    "    cursor.execute(sql)\n",
    "    connection.commit()\n",
    "\n",
    "\n",
    "\n",
    "with connection.cursor() as cursor:\n",
    "    sql = \"\"\"ALTER TABLE posts_info CONVERT TO CHARACTER SET utf8mb4;\"\"\"\n",
    "    cursor.execute(sql)\n",
    "    connection.commit()\n",
    "\n",
    "with connection.cursor() as cursor:\n",
    "    sql = \"\"\"\n",
    "    \n",
    "    insert into posts_info(post_id,post_title,post_author_id,post_subreddit_id,posted_at,post_num_comments,post_score,post_total_awards_received,post_upvote_ratio,selftext) values (%s,%s,%s,%s,%s,%s,%s,%s,%s,%s);\n",
    "    \n",
    "    \"\"\"\n",
    "    cursor.executemany(sql,post_info_list)\n",
    "    connection.commit()"
   ]
  },
  {
   "cell_type": "code",
   "execution_count": 19,
   "id": "31ebec80",
   "metadata": {},
   "outputs": [],
   "source": [
    "# sub_favourite_users\n",
    "df = pandas.read_csv('data_portfolio_21.csv').fillna('NULL')\n",
    "subr_faved_users = df['subr_faved_by'].values.tolist()\n",
    "subr_faved_usernames = []\n",
    "for i in range(len(subr_faved_users)):\n",
    "    username_list = subr_faved_users[i][1:-1].split(\",\")\n",
    "    if len(username_list) == 0:\n",
    "        print(\" \", subr_faved_users[i])\n",
    "    for usernames in username_list:\n",
    "        name = usernames.strip()[1:-1]\n",
    "        subr_faved_usernames.append((i, name))"
   ]
  },
  {
   "cell_type": "code",
   "execution_count": 20,
   "id": "964ad371",
   "metadata": {},
   "outputs": [],
   "source": [
    "with connection.cursor() as cursor:\n",
    "    sql = \"\"\"drop table if exists favorite_user_info;\"\"\"\n",
    "    cursor.execute(sql)\n",
    "    connection.commit()\n",
    "\n",
    "with connection.cursor() as cursor:\n",
    "    sql = \"\"\"\n",
    "        create table favorite_user_info(\n",
    "        fav_user_id int auto_increment,\n",
    "        reddit_id int unsigned not null,\n",
    "        fav_user_name varchar(255),\n",
    "        primary key (fav_user_id)\n",
    "        \n",
    "    );\n",
    "    \"\"\"\n",
    "    cursor.execute(sql)\n",
    "    connection.commit()\n",
    "\n",
    "with connection.cursor() as cursor:\n",
    "    sql = \"\"\"ALTER TABLE favorite_user_info CONVERT TO CHARACTER SET utf8mb4;\"\"\"\n",
    "    cursor.execute(sql)\n",
    "    connection.commit()\n",
    "\n",
    "with connection.cursor() as cursor:\n",
    "    sql = \"\"\"\n",
    "\n",
    "    insert into favorite_user_info(reddit_id, fav_user_name) values (%s, %s);\n",
    "\n",
    "    \"\"\"\n",
    "    cursor.executemany(sql, subr_faved_usernames)\n",
    "    connection.commit()"
   ]
  },
  {
   "cell_type": "code",
   "execution_count": null,
   "id": "cd31676a",
   "metadata": {},
   "outputs": [],
   "source": []
  },
  {
   "cell_type": "code",
   "execution_count": null,
   "id": "3608a14d",
   "metadata": {},
   "outputs": [],
   "source": []
  },
  {
   "cell_type": "code",
   "execution_count": null,
   "id": "e3378db8",
   "metadata": {},
   "outputs": [],
   "source": []
  },
  {
   "cell_type": "code",
   "execution_count": null,
   "id": "5cca51b9",
   "metadata": {},
   "outputs": [],
   "source": []
  }
 ],
 "metadata": {
  "kernelspec": {
   "display_name": "Python 3",
   "language": "python",
   "name": "python3"
  },
  "language_info": {
   "codemirror_mode": {
    "name": "ipython",
    "version": 3
   },
   "file_extension": ".py",
   "mimetype": "text/x-python",
   "name": "python",
   "nbconvert_exporter": "python",
   "pygments_lexer": "ipython3",
   "version": "3.9.4"
  }
 },
 "nbformat": 4,
 "nbformat_minor": 5
}
